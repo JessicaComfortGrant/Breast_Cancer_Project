{
 "cells": [
  {
   "cell_type": "markdown",
   "id": "b6d5f32b",
   "metadata": {},
   "source": [
    "# BREAST CANCER ANALYSIS"
   ]
  },
  {
   "cell_type": "markdown",
   "id": "c90694fc",
   "metadata": {},
   "source": [
    "This project applies logistic regression to classify breast cancer tumors as malignant or benign using the Breast Cancer dataset from Kaggle. \n",
    "\n",
    "It includes data preprocessing, model training, evaluation with accuracy and confusion matrix, and visualization of results. Ideal for beginners exploring binary classification in machine learning."
   ]
  },
  {
   "cell_type": "markdown",
   "id": "30a8c672",
   "metadata": {},
   "source": []
  }
 ],
 "metadata": {
  "language_info": {
   "name": "python"
  }
 },
 "nbformat": 4,
 "nbformat_minor": 5
}
