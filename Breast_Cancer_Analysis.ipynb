{
 "cells": [
  {
   "cell_type": "markdown",
   "id": "b6d5f32b",
   "metadata": {},
   "source": [
    "# BREAST CANCER ANALYSIS"
   ]
  },
  {
   "cell_type": "markdown",
   "id": "c90694fc",
   "metadata": {},
   "source": [
    "This project applies logistic regression to classify breast cancer tumors as malignant or benign using the Breast Cancer dataset from Kaggle. \n",
    "\n",
    "It includes data preprocessing, model training, evaluation with accuracy and confusion matrix, and visualization of results. Ideal for beginners exploring binary classification in machine learning."
   ]
  },
  {
   "cell_type": "markdown",
   "id": "30a8c672",
   "metadata": {},
   "source": []
  },
  {
   "cell_type": "markdown",
   "id": "ae2c035a",
   "metadata": {},
   "source": [
    "### Importing Libraries"
   ]
  },
  {
   "cell_type": "code",
   "execution_count": 2,
   "id": "0cd009fd",
   "metadata": {},
   "outputs": [],
   "source": [
    "import pandas as pd\n",
    "import numpy as np\n",
    "import matplotlib.pyplot as plt\n",
    "import seaborn as sns\n",
    "import warnings\n",
    "\n",
    "warnings.filterwarnings(\"ignore\")"
   ]
  }
 ],
 "metadata": {
  "kernelspec": {
   "display_name": "BreastCancer",
   "language": "python",
   "name": "python3"
  },
  "language_info": {
   "codemirror_mode": {
    "name": "ipython",
    "version": 3
   },
   "file_extension": ".py",
   "mimetype": "text/x-python",
   "name": "python",
   "nbconvert_exporter": "python",
   "pygments_lexer": "ipython3",
   "version": "3.12.8"
  }
 },
 "nbformat": 4,
 "nbformat_minor": 5
}
